{
 "cells": [
  {
   "cell_type": "markdown",
   "metadata": {},
   "source": [
    "# Titanic - Machine Learning from Disaster\n"
   ]
  },
  {
   "cell_type": "markdown",
   "metadata": {},
   "source": [
    "This notebook is for Kaggle - Titanic Machine Learning from Disaster.<br> \n",
    "https://www.kaggle.com/competitions/titanic<br>\n",
    "About Data:\n",
    "This dataset is about the survival of passengers on the Titanic. "
   ]
  },
  {
   "cell_type": "markdown",
   "metadata": {},
   "source": [
    "### Import Libraries and packages"
   ]
  },
  {
   "cell_type": "code",
   "execution_count": 1,
   "metadata": {
    "_cell_guid": "b1076dfc-b9ad-4769-8c92-a6c4dae69d19",
    "_uuid": "8f2839f25d086af736a60e9eeb907d3b93b6e0e5",
    "execution": {
     "iopub.execute_input": "2024-02-22T15:14:17.073514Z",
     "iopub.status.busy": "2024-02-22T15:14:17.073089Z",
     "iopub.status.idle": "2024-02-22T15:14:20.670608Z",
     "shell.execute_reply": "2024-02-22T15:14:20.669016Z",
     "shell.execute_reply.started": "2024-02-22T15:14:17.073482Z"
    }
   },
   "outputs": [],
   "source": [
    "# This Python 3 environment comes with many helpful analytics libraries installed\n",
    "# It is defined by the kaggle/python Docker image: https://github.com/kaggle/docker-python\n",
    "# For example, here's several helpful packages to load\n",
    "\n",
    "import numpy as np # linear algebra\n",
    "import pandas as pd # data processing, CSV file I/O (e.g. pd.read_csv)\n",
    "import matplotlib.pyplot as plt\n",
    "import seaborn as sns\n",
    "\n",
    "#machine learning libraries\n",
    "from sklearn.linear_model import LogisticRegression\n",
    "from sklearn.svm import SVC, LinearSVC\n",
    "from sklearn.ensemble import RandomForestClassifier\n",
    "from sklearn.neighbors import KNeighborsClassifier\n",
    "from sklearn.naive_bayes import GaussianNB\n",
    "from sklearn.linear_model import Perceptron\n",
    "from sklearn.linear_model import SGDClassifier\n",
    "from sklearn.tree import DecisionTreeClassifier\n",
    "\n",
    "# Input data files are available in the read-only \"../input/\" directory\n",
    "# For example, running this (by clicking run or pressing Shift+Enter) will list all files under the input directory\n",
    "\n",
    "import os\n",
    "for dirname, _, filenames in os.walk('/kaggle/input'):\n",
    "    for filename in filenames:\n",
    "        print(os.path.join(dirname, filename))\n",
    "\n",
    "# You can write up to 20GB to the current directory (/kaggle/working/) that gets preserved as output when you create a version using \"Save & Run All\" \n",
    "# You can also write temporary files to /kaggle/temp/, but they won't be saved outside of the current session"
   ]
  },
  {
   "cell_type": "code",
   "execution_count": 2,
   "metadata": {
    "execution": {
     "iopub.execute_input": "2024-02-22T15:14:20.673418Z",
     "iopub.status.busy": "2024-02-22T15:14:20.672828Z",
     "iopub.status.idle": "2024-02-22T15:14:20.680362Z",
     "shell.execute_reply": "2024-02-22T15:14:20.677359Z",
     "shell.execute_reply.started": "2024-02-22T15:14:20.673376Z"
    }
   },
   "outputs": [],
   "source": [
    "import warnings\n",
    "warnings.filterwarnings('ignore')"
   ]
  },
  {
   "cell_type": "markdown",
   "metadata": {},
   "source": [
    "### Loading Data"
   ]
  },
  {
   "cell_type": "code",
   "execution_count": 3,
   "metadata": {
    "execution": {
     "iopub.execute_input": "2024-02-22T15:14:20.682146Z",
     "iopub.status.busy": "2024-02-22T15:14:20.681740Z",
     "iopub.status.idle": "2024-02-22T15:14:20.741939Z",
     "shell.execute_reply": "2024-02-22T15:14:20.740408Z",
     "shell.execute_reply.started": "2024-02-22T15:14:20.682117Z"
    }
   },
   "outputs": [
    {
     "ename": "FileNotFoundError",
     "evalue": "[Errno 2] No such file or directory: '/kaggle/input/titanic/train.csv'",
     "output_type": "error",
     "traceback": [
      "\u001b[1;31m---------------------------------------------------------------------------\u001b[0m",
      "\u001b[1;31mFileNotFoundError\u001b[0m                         Traceback (most recent call last)",
      "Cell \u001b[1;32mIn[3], line 1\u001b[0m\n\u001b[1;32m----> 1\u001b[0m train_data \u001b[38;5;241m=\u001b[39m pd\u001b[38;5;241m.\u001b[39mread_csv(\u001b[38;5;124m\"\u001b[39m\u001b[38;5;124m/kaggle/input/titanic/train.csv\u001b[39m\u001b[38;5;124m\"\u001b[39m)\n\u001b[0;32m      2\u001b[0m test_data \u001b[38;5;241m=\u001b[39m pd\u001b[38;5;241m.\u001b[39mread_csv(\u001b[38;5;124m\"\u001b[39m\u001b[38;5;124m/kaggle/input/titanic/test.csv\u001b[39m\u001b[38;5;124m\"\u001b[39m)\n\u001b[0;32m      3\u001b[0m combined_data \u001b[38;5;241m=\u001b[39m pd\u001b[38;5;241m.\u001b[39mconcat([train_data, test_data], sort\u001b[38;5;241m=\u001b[39m\u001b[38;5;28;01mFalse\u001b[39;00m)\n",
      "File \u001b[1;32mC:\\ProgramData\\anaconda3\\Lib\\site-packages\\pandas\\util\\_decorators.py:211\u001b[0m, in \u001b[0;36mdeprecate_kwarg.<locals>._deprecate_kwarg.<locals>.wrapper\u001b[1;34m(*args, **kwargs)\u001b[0m\n\u001b[0;32m    209\u001b[0m     \u001b[38;5;28;01melse\u001b[39;00m:\n\u001b[0;32m    210\u001b[0m         kwargs[new_arg_name] \u001b[38;5;241m=\u001b[39m new_arg_value\n\u001b[1;32m--> 211\u001b[0m \u001b[38;5;28;01mreturn\u001b[39;00m func(\u001b[38;5;241m*\u001b[39margs, \u001b[38;5;241m*\u001b[39m\u001b[38;5;241m*\u001b[39mkwargs)\n",
      "File \u001b[1;32mC:\\ProgramData\\anaconda3\\Lib\\site-packages\\pandas\\util\\_decorators.py:331\u001b[0m, in \u001b[0;36mdeprecate_nonkeyword_arguments.<locals>.decorate.<locals>.wrapper\u001b[1;34m(*args, **kwargs)\u001b[0m\n\u001b[0;32m    325\u001b[0m \u001b[38;5;28;01mif\u001b[39;00m \u001b[38;5;28mlen\u001b[39m(args) \u001b[38;5;241m>\u001b[39m num_allow_args:\n\u001b[0;32m    326\u001b[0m     warnings\u001b[38;5;241m.\u001b[39mwarn(\n\u001b[0;32m    327\u001b[0m         msg\u001b[38;5;241m.\u001b[39mformat(arguments\u001b[38;5;241m=\u001b[39m_format_argument_list(allow_args)),\n\u001b[0;32m    328\u001b[0m         \u001b[38;5;167;01mFutureWarning\u001b[39;00m,\n\u001b[0;32m    329\u001b[0m         stacklevel\u001b[38;5;241m=\u001b[39mfind_stack_level(),\n\u001b[0;32m    330\u001b[0m     )\n\u001b[1;32m--> 331\u001b[0m \u001b[38;5;28;01mreturn\u001b[39;00m func(\u001b[38;5;241m*\u001b[39margs, \u001b[38;5;241m*\u001b[39m\u001b[38;5;241m*\u001b[39mkwargs)\n",
      "File \u001b[1;32mC:\\ProgramData\\anaconda3\\Lib\\site-packages\\pandas\\io\\parsers\\readers.py:950\u001b[0m, in \u001b[0;36mread_csv\u001b[1;34m(filepath_or_buffer, sep, delimiter, header, names, index_col, usecols, squeeze, prefix, mangle_dupe_cols, dtype, engine, converters, true_values, false_values, skipinitialspace, skiprows, skipfooter, nrows, na_values, keep_default_na, na_filter, verbose, skip_blank_lines, parse_dates, infer_datetime_format, keep_date_col, date_parser, dayfirst, cache_dates, iterator, chunksize, compression, thousands, decimal, lineterminator, quotechar, quoting, doublequote, escapechar, comment, encoding, encoding_errors, dialect, error_bad_lines, warn_bad_lines, on_bad_lines, delim_whitespace, low_memory, memory_map, float_precision, storage_options)\u001b[0m\n\u001b[0;32m    935\u001b[0m kwds_defaults \u001b[38;5;241m=\u001b[39m _refine_defaults_read(\n\u001b[0;32m    936\u001b[0m     dialect,\n\u001b[0;32m    937\u001b[0m     delimiter,\n\u001b[1;32m   (...)\u001b[0m\n\u001b[0;32m    946\u001b[0m     defaults\u001b[38;5;241m=\u001b[39m{\u001b[38;5;124m\"\u001b[39m\u001b[38;5;124mdelimiter\u001b[39m\u001b[38;5;124m\"\u001b[39m: \u001b[38;5;124m\"\u001b[39m\u001b[38;5;124m,\u001b[39m\u001b[38;5;124m\"\u001b[39m},\n\u001b[0;32m    947\u001b[0m )\n\u001b[0;32m    948\u001b[0m kwds\u001b[38;5;241m.\u001b[39mupdate(kwds_defaults)\n\u001b[1;32m--> 950\u001b[0m \u001b[38;5;28;01mreturn\u001b[39;00m _read(filepath_or_buffer, kwds)\n",
      "File \u001b[1;32mC:\\ProgramData\\anaconda3\\Lib\\site-packages\\pandas\\io\\parsers\\readers.py:605\u001b[0m, in \u001b[0;36m_read\u001b[1;34m(filepath_or_buffer, kwds)\u001b[0m\n\u001b[0;32m    602\u001b[0m _validate_names(kwds\u001b[38;5;241m.\u001b[39mget(\u001b[38;5;124m\"\u001b[39m\u001b[38;5;124mnames\u001b[39m\u001b[38;5;124m\"\u001b[39m, \u001b[38;5;28;01mNone\u001b[39;00m))\n\u001b[0;32m    604\u001b[0m \u001b[38;5;66;03m# Create the parser.\u001b[39;00m\n\u001b[1;32m--> 605\u001b[0m parser \u001b[38;5;241m=\u001b[39m TextFileReader(filepath_or_buffer, \u001b[38;5;241m*\u001b[39m\u001b[38;5;241m*\u001b[39mkwds)\n\u001b[0;32m    607\u001b[0m \u001b[38;5;28;01mif\u001b[39;00m chunksize \u001b[38;5;129;01mor\u001b[39;00m iterator:\n\u001b[0;32m    608\u001b[0m     \u001b[38;5;28;01mreturn\u001b[39;00m parser\n",
      "File \u001b[1;32mC:\\ProgramData\\anaconda3\\Lib\\site-packages\\pandas\\io\\parsers\\readers.py:1442\u001b[0m, in \u001b[0;36mTextFileReader.__init__\u001b[1;34m(self, f, engine, **kwds)\u001b[0m\n\u001b[0;32m   1439\u001b[0m     \u001b[38;5;28mself\u001b[39m\u001b[38;5;241m.\u001b[39moptions[\u001b[38;5;124m\"\u001b[39m\u001b[38;5;124mhas_index_names\u001b[39m\u001b[38;5;124m\"\u001b[39m] \u001b[38;5;241m=\u001b[39m kwds[\u001b[38;5;124m\"\u001b[39m\u001b[38;5;124mhas_index_names\u001b[39m\u001b[38;5;124m\"\u001b[39m]\n\u001b[0;32m   1441\u001b[0m \u001b[38;5;28mself\u001b[39m\u001b[38;5;241m.\u001b[39mhandles: IOHandles \u001b[38;5;241m|\u001b[39m \u001b[38;5;28;01mNone\u001b[39;00m \u001b[38;5;241m=\u001b[39m \u001b[38;5;28;01mNone\u001b[39;00m\n\u001b[1;32m-> 1442\u001b[0m \u001b[38;5;28mself\u001b[39m\u001b[38;5;241m.\u001b[39m_engine \u001b[38;5;241m=\u001b[39m \u001b[38;5;28mself\u001b[39m\u001b[38;5;241m.\u001b[39m_make_engine(f, \u001b[38;5;28mself\u001b[39m\u001b[38;5;241m.\u001b[39mengine)\n",
      "File \u001b[1;32mC:\\ProgramData\\anaconda3\\Lib\\site-packages\\pandas\\io\\parsers\\readers.py:1735\u001b[0m, in \u001b[0;36mTextFileReader._make_engine\u001b[1;34m(self, f, engine)\u001b[0m\n\u001b[0;32m   1733\u001b[0m     \u001b[38;5;28;01mif\u001b[39;00m \u001b[38;5;124m\"\u001b[39m\u001b[38;5;124mb\u001b[39m\u001b[38;5;124m\"\u001b[39m \u001b[38;5;129;01mnot\u001b[39;00m \u001b[38;5;129;01min\u001b[39;00m mode:\n\u001b[0;32m   1734\u001b[0m         mode \u001b[38;5;241m+\u001b[39m\u001b[38;5;241m=\u001b[39m \u001b[38;5;124m\"\u001b[39m\u001b[38;5;124mb\u001b[39m\u001b[38;5;124m\"\u001b[39m\n\u001b[1;32m-> 1735\u001b[0m \u001b[38;5;28mself\u001b[39m\u001b[38;5;241m.\u001b[39mhandles \u001b[38;5;241m=\u001b[39m get_handle(\n\u001b[0;32m   1736\u001b[0m     f,\n\u001b[0;32m   1737\u001b[0m     mode,\n\u001b[0;32m   1738\u001b[0m     encoding\u001b[38;5;241m=\u001b[39m\u001b[38;5;28mself\u001b[39m\u001b[38;5;241m.\u001b[39moptions\u001b[38;5;241m.\u001b[39mget(\u001b[38;5;124m\"\u001b[39m\u001b[38;5;124mencoding\u001b[39m\u001b[38;5;124m\"\u001b[39m, \u001b[38;5;28;01mNone\u001b[39;00m),\n\u001b[0;32m   1739\u001b[0m     compression\u001b[38;5;241m=\u001b[39m\u001b[38;5;28mself\u001b[39m\u001b[38;5;241m.\u001b[39moptions\u001b[38;5;241m.\u001b[39mget(\u001b[38;5;124m\"\u001b[39m\u001b[38;5;124mcompression\u001b[39m\u001b[38;5;124m\"\u001b[39m, \u001b[38;5;28;01mNone\u001b[39;00m),\n\u001b[0;32m   1740\u001b[0m     memory_map\u001b[38;5;241m=\u001b[39m\u001b[38;5;28mself\u001b[39m\u001b[38;5;241m.\u001b[39moptions\u001b[38;5;241m.\u001b[39mget(\u001b[38;5;124m\"\u001b[39m\u001b[38;5;124mmemory_map\u001b[39m\u001b[38;5;124m\"\u001b[39m, \u001b[38;5;28;01mFalse\u001b[39;00m),\n\u001b[0;32m   1741\u001b[0m     is_text\u001b[38;5;241m=\u001b[39mis_text,\n\u001b[0;32m   1742\u001b[0m     errors\u001b[38;5;241m=\u001b[39m\u001b[38;5;28mself\u001b[39m\u001b[38;5;241m.\u001b[39moptions\u001b[38;5;241m.\u001b[39mget(\u001b[38;5;124m\"\u001b[39m\u001b[38;5;124mencoding_errors\u001b[39m\u001b[38;5;124m\"\u001b[39m, \u001b[38;5;124m\"\u001b[39m\u001b[38;5;124mstrict\u001b[39m\u001b[38;5;124m\"\u001b[39m),\n\u001b[0;32m   1743\u001b[0m     storage_options\u001b[38;5;241m=\u001b[39m\u001b[38;5;28mself\u001b[39m\u001b[38;5;241m.\u001b[39moptions\u001b[38;5;241m.\u001b[39mget(\u001b[38;5;124m\"\u001b[39m\u001b[38;5;124mstorage_options\u001b[39m\u001b[38;5;124m\"\u001b[39m, \u001b[38;5;28;01mNone\u001b[39;00m),\n\u001b[0;32m   1744\u001b[0m )\n\u001b[0;32m   1745\u001b[0m \u001b[38;5;28;01massert\u001b[39;00m \u001b[38;5;28mself\u001b[39m\u001b[38;5;241m.\u001b[39mhandles \u001b[38;5;129;01mis\u001b[39;00m \u001b[38;5;129;01mnot\u001b[39;00m \u001b[38;5;28;01mNone\u001b[39;00m\n\u001b[0;32m   1746\u001b[0m f \u001b[38;5;241m=\u001b[39m \u001b[38;5;28mself\u001b[39m\u001b[38;5;241m.\u001b[39mhandles\u001b[38;5;241m.\u001b[39mhandle\n",
      "File \u001b[1;32mC:\\ProgramData\\anaconda3\\Lib\\site-packages\\pandas\\io\\common.py:856\u001b[0m, in \u001b[0;36mget_handle\u001b[1;34m(path_or_buf, mode, encoding, compression, memory_map, is_text, errors, storage_options)\u001b[0m\n\u001b[0;32m    851\u001b[0m \u001b[38;5;28;01melif\u001b[39;00m \u001b[38;5;28misinstance\u001b[39m(handle, \u001b[38;5;28mstr\u001b[39m):\n\u001b[0;32m    852\u001b[0m     \u001b[38;5;66;03m# Check whether the filename is to be opened in binary mode.\u001b[39;00m\n\u001b[0;32m    853\u001b[0m     \u001b[38;5;66;03m# Binary mode does not support 'encoding' and 'newline'.\u001b[39;00m\n\u001b[0;32m    854\u001b[0m     \u001b[38;5;28;01mif\u001b[39;00m ioargs\u001b[38;5;241m.\u001b[39mencoding \u001b[38;5;129;01mand\u001b[39;00m \u001b[38;5;124m\"\u001b[39m\u001b[38;5;124mb\u001b[39m\u001b[38;5;124m\"\u001b[39m \u001b[38;5;129;01mnot\u001b[39;00m \u001b[38;5;129;01min\u001b[39;00m ioargs\u001b[38;5;241m.\u001b[39mmode:\n\u001b[0;32m    855\u001b[0m         \u001b[38;5;66;03m# Encoding\u001b[39;00m\n\u001b[1;32m--> 856\u001b[0m         handle \u001b[38;5;241m=\u001b[39m \u001b[38;5;28mopen\u001b[39m(\n\u001b[0;32m    857\u001b[0m             handle,\n\u001b[0;32m    858\u001b[0m             ioargs\u001b[38;5;241m.\u001b[39mmode,\n\u001b[0;32m    859\u001b[0m             encoding\u001b[38;5;241m=\u001b[39mioargs\u001b[38;5;241m.\u001b[39mencoding,\n\u001b[0;32m    860\u001b[0m             errors\u001b[38;5;241m=\u001b[39merrors,\n\u001b[0;32m    861\u001b[0m             newline\u001b[38;5;241m=\u001b[39m\u001b[38;5;124m\"\u001b[39m\u001b[38;5;124m\"\u001b[39m,\n\u001b[0;32m    862\u001b[0m         )\n\u001b[0;32m    863\u001b[0m     \u001b[38;5;28;01melse\u001b[39;00m:\n\u001b[0;32m    864\u001b[0m         \u001b[38;5;66;03m# Binary mode\u001b[39;00m\n\u001b[0;32m    865\u001b[0m         handle \u001b[38;5;241m=\u001b[39m \u001b[38;5;28mopen\u001b[39m(handle, ioargs\u001b[38;5;241m.\u001b[39mmode)\n",
      "\u001b[1;31mFileNotFoundError\u001b[0m: [Errno 2] No such file or directory: '/kaggle/input/titanic/train.csv'"
     ]
    }
   ],
   "source": [
    "train_data = pd.read_csv(\"/kaggle/input/titanic/train.csv\")\n",
    "test_data = pd.read_csv(\"/kaggle/input/titanic/test.csv\")\n",
    "combined_data = pd.concat([train_data, test_data], sort=False)"
   ]
  },
  {
   "cell_type": "code",
   "execution_count": null,
   "metadata": {
    "execution": {
     "iopub.execute_input": "2024-02-22T15:14:20.745052Z",
     "iopub.status.busy": "2024-02-22T15:14:20.744632Z",
     "iopub.status.idle": "2024-02-22T15:14:20.768846Z",
     "shell.execute_reply": "2024-02-22T15:14:20.767528Z",
     "shell.execute_reply.started": "2024-02-22T15:14:20.745016Z"
    }
   },
   "outputs": [],
   "source": [
    "test_data.head()"
   ]
  },
  {
   "cell_type": "code",
   "execution_count": null,
   "metadata": {
    "execution": {
     "iopub.execute_input": "2024-02-22T15:14:20.770917Z",
     "iopub.status.busy": "2024-02-22T15:14:20.770479Z",
     "iopub.status.idle": "2024-02-22T15:14:20.781608Z",
     "shell.execute_reply": "2024-02-22T15:14:20.780747Z",
     "shell.execute_reply.started": "2024-02-22T15:14:20.770879Z"
    }
   },
   "outputs": [],
   "source": [
    "test_data.isnull().sum()"
   ]
  },
  {
   "cell_type": "markdown",
   "metadata": {},
   "source": [
    "### Exploratory Data Analysis"
   ]
  },
  {
   "cell_type": "code",
   "execution_count": null,
   "metadata": {
    "execution": {
     "iopub.execute_input": "2024-02-22T15:14:20.783538Z",
     "iopub.status.busy": "2024-02-22T15:14:20.782905Z",
     "iopub.status.idle": "2024-02-22T15:14:20.809398Z",
     "shell.execute_reply": "2024-02-22T15:14:20.808283Z",
     "shell.execute_reply.started": "2024-02-22T15:14:20.783502Z"
    }
   },
   "outputs": [],
   "source": [
    "combined_data.head()"
   ]
  },
  {
   "cell_type": "code",
   "execution_count": null,
   "metadata": {
    "execution": {
     "iopub.execute_input": "2024-02-22T15:14:20.811878Z",
     "iopub.status.busy": "2024-02-22T15:14:20.811255Z",
     "iopub.status.idle": "2024-02-22T15:14:20.844006Z",
     "shell.execute_reply": "2024-02-22T15:14:20.843147Z",
     "shell.execute_reply.started": "2024-02-22T15:14:20.811841Z"
    }
   },
   "outputs": [],
   "source": [
    "#describing the data\n",
    "combined_data.describe(include=['O']) # that includes categorical"
   ]
  },
  {
   "cell_type": "code",
   "execution_count": null,
   "metadata": {
    "execution": {
     "iopub.execute_input": "2024-02-22T15:14:20.846131Z",
     "iopub.status.busy": "2024-02-22T15:14:20.845492Z",
     "iopub.status.idle": "2024-02-22T15:14:20.885740Z",
     "shell.execute_reply": "2024-02-22T15:14:20.884391Z",
     "shell.execute_reply.started": "2024-02-22T15:14:20.846095Z"
    }
   },
   "outputs": [],
   "source": [
    "combined_data.describe(include=['number']).T #that includes numerical"
   ]
  },
  {
   "cell_type": "markdown",
   "metadata": {},
   "source": [
    "### Check for Missing Values"
   ]
  },
  {
   "cell_type": "code",
   "execution_count": null,
   "metadata": {
    "execution": {
     "iopub.execute_input": "2024-02-22T15:14:20.888100Z",
     "iopub.status.busy": "2024-02-22T15:14:20.887632Z",
     "iopub.status.idle": "2024-02-22T15:14:20.909280Z",
     "shell.execute_reply": "2024-02-22T15:14:20.907649Z",
     "shell.execute_reply.started": "2024-02-22T15:14:20.888043Z"
    }
   },
   "outputs": [],
   "source": [
    "combined_data.info()"
   ]
  },
  {
   "cell_type": "code",
   "execution_count": null,
   "metadata": {
    "execution": {
     "iopub.execute_input": "2024-02-22T15:14:20.915079Z",
     "iopub.status.busy": "2024-02-22T15:14:20.914612Z",
     "iopub.status.idle": "2024-02-22T15:14:20.931037Z",
     "shell.execute_reply": "2024-02-22T15:14:20.929569Z",
     "shell.execute_reply.started": "2024-02-22T15:14:20.915031Z"
    }
   },
   "outputs": [],
   "source": [
    "combined_data.isnull().sum()"
   ]
  },
  {
   "cell_type": "markdown",
   "metadata": {},
   "source": [
    "## Data Visualization"
   ]
  },
  {
   "cell_type": "code",
   "execution_count": null,
   "metadata": {
    "execution": {
     "iopub.execute_input": "2024-02-22T15:14:20.933942Z",
     "iopub.status.busy": "2024-02-22T15:14:20.933459Z",
     "iopub.status.idle": "2024-02-22T15:14:20.947191Z",
     "shell.execute_reply": "2024-02-22T15:14:20.945773Z",
     "shell.execute_reply.started": "2024-02-22T15:14:20.933902Z"
    }
   },
   "outputs": [],
   "source": [
    "# percentage of survived groupby Sex\n",
    "combined_data[\"Survived\"].value_counts(normalize=True)"
   ]
  },
  {
   "cell_type": "code",
   "execution_count": null,
   "metadata": {
    "execution": {
     "iopub.execute_input": "2024-02-22T15:14:20.949153Z",
     "iopub.status.busy": "2024-02-22T15:14:20.948750Z",
     "iopub.status.idle": "2024-02-22T15:14:21.139397Z",
     "shell.execute_reply": "2024-02-22T15:14:21.137899Z",
     "shell.execute_reply.started": "2024-02-22T15:14:20.949113Z"
    }
   },
   "outputs": [],
   "source": [
    "sns.countplot(x=\"Survived\", data=combined_data)\n",
    "plt.show()"
   ]
  },
  {
   "cell_type": "code",
   "execution_count": null,
   "metadata": {
    "execution": {
     "iopub.execute_input": "2024-02-22T15:14:21.141291Z",
     "iopub.status.busy": "2024-02-22T15:14:21.140911Z",
     "iopub.status.idle": "2024-02-22T15:14:21.148579Z",
     "shell.execute_reply": "2024-02-22T15:14:21.146797Z",
     "shell.execute_reply.started": "2024-02-22T15:14:21.141263Z"
    }
   },
   "outputs": [],
   "source": [
    "#combined_data[\"Survived\"].groupby(train_data[\"Sex\"]).value_counts()"
   ]
  },
  {
   "cell_type": "code",
   "execution_count": null,
   "metadata": {
    "execution": {
     "iopub.execute_input": "2024-02-22T15:14:21.150652Z",
     "iopub.status.busy": "2024-02-22T15:14:21.150265Z",
     "iopub.status.idle": "2024-02-22T15:14:21.170881Z",
     "shell.execute_reply": "2024-02-22T15:14:21.169551Z",
     "shell.execute_reply.started": "2024-02-22T15:14:21.150623Z"
    }
   },
   "outputs": [],
   "source": [
    "train_data[\"Survived\"].groupby(train_data[\"Sex\"]).value_counts(normalize=True)"
   ]
  },
  {
   "cell_type": "code",
   "execution_count": null,
   "metadata": {
    "execution": {
     "iopub.execute_input": "2024-02-22T15:14:21.173093Z",
     "iopub.status.busy": "2024-02-22T15:14:21.172381Z",
     "iopub.status.idle": "2024-02-22T15:14:21.351294Z",
     "shell.execute_reply": "2024-02-22T15:14:21.349527Z",
     "shell.execute_reply.started": "2024-02-22T15:14:21.173040Z"
    }
   },
   "outputs": [],
   "source": [
    "sns.countplot(x=\"Survived\",hue=\"Sex\", data=combined_data)\n",
    "plt.show()"
   ]
  },
  {
   "cell_type": "code",
   "execution_count": null,
   "metadata": {
    "execution": {
     "iopub.execute_input": "2024-02-22T15:14:21.353738Z",
     "iopub.status.busy": "2024-02-22T15:14:21.352910Z",
     "iopub.status.idle": "2024-02-22T15:14:21.557871Z",
     "shell.execute_reply": "2024-02-22T15:14:21.556228Z",
     "shell.execute_reply.started": "2024-02-22T15:14:21.353705Z"
    }
   },
   "outputs": [],
   "source": [
    "sns.countplot(x=\"Survived\",hue=\"Pclass\", data=combined_data)\n",
    "plt.show()"
   ]
  },
  {
   "cell_type": "code",
   "execution_count": null,
   "metadata": {
    "execution": {
     "iopub.execute_input": "2024-02-22T15:14:21.560679Z",
     "iopub.status.busy": "2024-02-22T15:14:21.560204Z",
     "iopub.status.idle": "2024-02-22T15:14:21.580776Z",
     "shell.execute_reply": "2024-02-22T15:14:21.579600Z",
     "shell.execute_reply.started": "2024-02-22T15:14:21.560635Z"
    }
   },
   "outputs": [],
   "source": [
    "total_passengers = combined_data.groupby('Pclass').size().reset_index(name='Total')\n",
    "survived_passengers = combined_data[combined_data['Survived'] == 1].groupby('Pclass').size().reset_index(name='Survived')\n",
    "merged_data = pd.merge(total_passengers, survived_passengers, on='Pclass')\n"
   ]
  },
  {
   "cell_type": "code",
   "execution_count": null,
   "metadata": {
    "execution": {
     "iopub.execute_input": "2024-02-22T15:14:21.584194Z",
     "iopub.status.busy": "2024-02-22T15:14:21.583483Z",
     "iopub.status.idle": "2024-02-22T15:14:21.595446Z",
     "shell.execute_reply": "2024-02-22T15:14:21.594095Z",
     "shell.execute_reply.started": "2024-02-22T15:14:21.584154Z"
    }
   },
   "outputs": [],
   "source": [
    "merged_data.head()"
   ]
  },
  {
   "cell_type": "code",
   "execution_count": null,
   "metadata": {
    "execution": {
     "iopub.execute_input": "2024-02-22T15:14:21.597231Z",
     "iopub.status.busy": "2024-02-22T15:14:21.596835Z",
     "iopub.status.idle": "2024-02-22T15:14:21.609757Z",
     "shell.execute_reply": "2024-02-22T15:14:21.608389Z",
     "shell.execute_reply.started": "2024-02-22T15:14:21.597201Z"
    }
   },
   "outputs": [],
   "source": [
    "merged_data_percentage = merged_data['Survived'] / merged_data['Total'] * 100\n",
    "merged_data_percentage"
   ]
  },
  {
   "cell_type": "code",
   "execution_count": null,
   "metadata": {
    "execution": {
     "iopub.execute_input": "2024-02-22T15:14:21.611629Z",
     "iopub.status.busy": "2024-02-22T15:14:21.611273Z",
     "iopub.status.idle": "2024-02-22T15:14:21.813673Z",
     "shell.execute_reply": "2024-02-22T15:14:21.812339Z",
     "shell.execute_reply.started": "2024-02-22T15:14:21.611599Z"
    }
   },
   "outputs": [],
   "source": [
    "sns.barplot(x=\"Pclass\", y=\"Total\", data=merged_data, color='gray')\n",
    "sns.barplot(x=\"Pclass\", y=\"Survived\", data=merged_data, color=\"green\", label=\"Survived\")"
   ]
  },
  {
   "cell_type": "code",
   "execution_count": null,
   "metadata": {
    "execution": {
     "iopub.execute_input": "2024-02-22T15:14:21.816106Z",
     "iopub.status.busy": "2024-02-22T15:14:21.815353Z",
     "iopub.status.idle": "2024-02-22T15:14:22.491784Z",
     "shell.execute_reply": "2024-02-22T15:14:22.490690Z",
     "shell.execute_reply.started": "2024-02-22T15:14:21.816048Z"
    }
   },
   "outputs": [],
   "source": [
    "g = sns.catplot(x=\"Pclass\", hue=\"Sex\", col=\"Survived\",\n",
    "                data=train_data, kind=\"count\",\n",
    "                height=4, aspect=.7, palette=\"coolwarm\");"
   ]
  },
  {
   "cell_type": "code",
   "execution_count": null,
   "metadata": {
    "execution": {
     "iopub.execute_input": "2024-02-22T15:14:22.493987Z",
     "iopub.status.busy": "2024-02-22T15:14:22.493371Z",
     "iopub.status.idle": "2024-02-22T15:14:22.513565Z",
     "shell.execute_reply": "2024-02-22T15:14:22.512298Z",
     "shell.execute_reply.started": "2024-02-22T15:14:22.493952Z"
    }
   },
   "outputs": [],
   "source": [
    "combined_data[[\"Survived\", \"Pclass\"]].groupby([\"Pclass\"], as_index=False).mean().sort_values(by=\"Survived\", ascending=False)"
   ]
  },
  {
   "cell_type": "code",
   "execution_count": null,
   "metadata": {
    "execution": {
     "iopub.execute_input": "2024-02-22T15:14:22.515106Z",
     "iopub.status.busy": "2024-02-22T15:14:22.514764Z",
     "iopub.status.idle": "2024-02-22T15:14:22.534673Z",
     "shell.execute_reply": "2024-02-22T15:14:22.533251Z",
     "shell.execute_reply.started": "2024-02-22T15:14:22.515055Z"
    }
   },
   "outputs": [],
   "source": [
    "survival_rates = combined_data.groupby(['Pclass', 'Sex'])['Survived'].agg(['mean', 'count']).reset_index()\n",
    "survival_rates['Survival Rate'] = survival_rates['mean'] * 100\n",
    "survival_rates = survival_rates.drop(['mean'], axis=1)\n",
    "survival_rates.columns = ['Pclass', 'Sex', 'Total Passengers', 'Survival Rate (%)']\n",
    "survival_rates"
   ]
  },
  {
   "cell_type": "code",
   "execution_count": null,
   "metadata": {
    "execution": {
     "iopub.execute_input": "2024-02-22T15:14:22.537181Z",
     "iopub.status.busy": "2024-02-22T15:14:22.536740Z",
     "iopub.status.idle": "2024-02-22T15:14:22.550824Z",
     "shell.execute_reply": "2024-02-22T15:14:22.549266Z",
     "shell.execute_reply.started": "2024-02-22T15:14:22.537144Z"
    }
   },
   "outputs": [],
   "source": [
    "combined_data[[\"Survived\", \"Sex\"]].groupby([\"Sex\"], as_index=False).mean().sort_values(by=\"Survived\", ascending=False)"
   ]
  },
  {
   "cell_type": "code",
   "execution_count": null,
   "metadata": {
    "execution": {
     "iopub.execute_input": "2024-02-22T15:14:22.552821Z",
     "iopub.status.busy": "2024-02-22T15:14:22.552401Z",
     "iopub.status.idle": "2024-02-22T15:14:22.568963Z",
     "shell.execute_reply": "2024-02-22T15:14:22.567690Z",
     "shell.execute_reply.started": "2024-02-22T15:14:22.552786Z"
    }
   },
   "outputs": [],
   "source": [
    "combined_data[[\"Survived\", \"Embarked\"]].groupby([\"Embarked\"], as_index=False).mean().sort_values(by=\"Survived\", ascending=False)"
   ]
  },
  {
   "cell_type": "code",
   "execution_count": null,
   "metadata": {
    "execution": {
     "iopub.execute_input": "2024-02-22T15:14:22.572429Z",
     "iopub.status.busy": "2024-02-22T15:14:22.570826Z",
     "iopub.status.idle": "2024-02-22T15:14:22.754460Z",
     "shell.execute_reply": "2024-02-22T15:14:22.753330Z",
     "shell.execute_reply.started": "2024-02-22T15:14:22.572389Z"
    }
   },
   "outputs": [],
   "source": [
    "sns.countplot(x=\"Survived\",hue=\"Embarked\", data=combined_data)\n",
    "plt.show()"
   ]
  },
  {
   "cell_type": "code",
   "execution_count": null,
   "metadata": {
    "execution": {
     "iopub.execute_input": "2024-02-22T15:14:22.756802Z",
     "iopub.status.busy": "2024-02-22T15:14:22.756168Z",
     "iopub.status.idle": "2024-02-22T15:14:22.979254Z",
     "shell.execute_reply": "2024-02-22T15:14:22.978136Z",
     "shell.execute_reply.started": "2024-02-22T15:14:22.756766Z"
    }
   },
   "outputs": [],
   "source": [
    "sns.countplot(x=\"Survived\",hue=\"Parch\", data=combined_data)\n",
    "plt.show()\n"
   ]
  },
  {
   "cell_type": "code",
   "execution_count": null,
   "metadata": {
    "execution": {
     "iopub.execute_input": "2024-02-22T15:14:22.987902Z",
     "iopub.status.busy": "2024-02-22T15:14:22.987340Z",
     "iopub.status.idle": "2024-02-22T15:14:23.477697Z",
     "shell.execute_reply": "2024-02-22T15:14:23.476693Z",
     "shell.execute_reply.started": "2024-02-22T15:14:22.987863Z"
    }
   },
   "outputs": [],
   "source": [
    "plt.figure(figsize=(8,8))\n",
    "combined_data = combined_data.reset_index(drop=True)\n",
    "sns.histplot(data=combined_data, x=\"Age\", hue=\"Survived\", multiple=\"stack\", kde=True, palette=\"coolwarm\", bins=8, alpha=0.7);"
   ]
  },
  {
   "cell_type": "code",
   "execution_count": null,
   "metadata": {
    "execution": {
     "iopub.execute_input": "2024-02-22T15:14:23.479922Z",
     "iopub.status.busy": "2024-02-22T15:14:23.478849Z",
     "iopub.status.idle": "2024-02-22T15:14:23.989959Z",
     "shell.execute_reply": "2024-02-22T15:14:23.988830Z",
     "shell.execute_reply.started": "2024-02-22T15:14:23.479888Z"
    }
   },
   "outputs": [],
   "source": [
    "plt.figure(figsize=(15, 15))\n",
    "combined_data = combined_data.reset_index(drop=True)\n",
    "sns.histplot(data=combined_data, x=\"Fare\", hue=\"Survived\", multiple=\"stack\", kde=True, palette=\"coolwarm\", bins=8, alpha=0.7);"
   ]
  },
  {
   "cell_type": "code",
   "execution_count": null,
   "metadata": {
    "execution": {
     "iopub.execute_input": "2024-02-22T15:14:23.991745Z",
     "iopub.status.busy": "2024-02-22T15:14:23.991426Z",
     "iopub.status.idle": "2024-02-22T15:14:23.998524Z",
     "shell.execute_reply": "2024-02-22T15:14:23.997768Z",
     "shell.execute_reply.started": "2024-02-22T15:14:23.991718Z"
    }
   },
   "outputs": [],
   "source": [
    "combined_data[\"Fare\"].max(), combined_data[\"Fare\"].min(),"
   ]
  },
  {
   "cell_type": "code",
   "execution_count": null,
   "metadata": {
    "execution": {
     "iopub.execute_input": "2024-02-22T15:14:24.000578Z",
     "iopub.status.busy": "2024-02-22T15:14:23.999733Z",
     "iopub.status.idle": "2024-02-22T15:14:24.033205Z",
     "shell.execute_reply": "2024-02-22T15:14:24.031849Z",
     "shell.execute_reply.started": "2024-02-22T15:14:24.000551Z"
    }
   },
   "outputs": [],
   "source": [
    "combined_data[\"Survived\"].groupby(pd.cut(combined_data[\"Fare\"], np.arange(0, 600, 100))).value_counts()"
   ]
  },
  {
   "cell_type": "code",
   "execution_count": null,
   "metadata": {
    "execution": {
     "iopub.execute_input": "2024-02-22T15:14:24.035108Z",
     "iopub.status.busy": "2024-02-22T15:14:24.034543Z",
     "iopub.status.idle": "2024-02-22T15:14:24.056508Z",
     "shell.execute_reply": "2024-02-22T15:14:24.055363Z",
     "shell.execute_reply.started": "2024-02-22T15:14:24.035080Z"
    }
   },
   "outputs": [],
   "source": [
    "#percentage of survived groupby bin of fare\n",
    "combined_data[\"Survived\"].groupby(pd.cut(combined_data[\"Fare\"], np.arange(0, 600, 100))).value_counts(normalize=True)"
   ]
  },
  {
   "cell_type": "code",
   "execution_count": null,
   "metadata": {
    "execution": {
     "iopub.execute_input": "2024-02-22T15:14:24.058585Z",
     "iopub.status.busy": "2024-02-22T15:14:24.058189Z",
     "iopub.status.idle": "2024-02-22T15:14:24.069625Z",
     "shell.execute_reply": "2024-02-22T15:14:24.068386Z",
     "shell.execute_reply.started": "2024-02-22T15:14:24.058551Z"
    }
   },
   "outputs": [],
   "source": [
    "#compare survived and not survived state fare >=80 and fare <80\n",
    "combined_data_fare101 = combined_data[combined_data[\"Fare\"] >= 80]\n",
    "combined_data_fare100 = combined_data[combined_data[\"Fare\"] < 80]\n",
    "combined_data_fare101[\"Survived\"].value_counts(normalize=True)\n"
   ]
  },
  {
   "cell_type": "code",
   "execution_count": null,
   "metadata": {
    "execution": {
     "iopub.execute_input": "2024-02-22T15:14:24.071910Z",
     "iopub.status.busy": "2024-02-22T15:14:24.071486Z",
     "iopub.status.idle": "2024-02-22T15:14:24.082110Z",
     "shell.execute_reply": "2024-02-22T15:14:24.080768Z",
     "shell.execute_reply.started": "2024-02-22T15:14:24.071876Z"
    }
   },
   "outputs": [],
   "source": [
    "combined_data_fare100 [\"Survived\"].value_counts(normalize=True)"
   ]
  },
  {
   "cell_type": "code",
   "execution_count": null,
   "metadata": {
    "execution": {
     "iopub.execute_input": "2024-02-22T15:14:24.083831Z",
     "iopub.status.busy": "2024-02-22T15:14:24.083361Z",
     "iopub.status.idle": "2024-02-22T15:14:24.253850Z",
     "shell.execute_reply": "2024-02-22T15:14:24.252503Z",
     "shell.execute_reply.started": "2024-02-22T15:14:24.083793Z"
    }
   },
   "outputs": [],
   "source": [
    "sns.countplot(x=\"Survived\",hue=\"Sex\", data=combined_data_fare101)\n",
    "plt.show()"
   ]
  },
  {
   "cell_type": "code",
   "execution_count": null,
   "metadata": {
    "execution": {
     "iopub.execute_input": "2024-02-22T15:14:24.255802Z",
     "iopub.status.busy": "2024-02-22T15:14:24.255461Z",
     "iopub.status.idle": "2024-02-22T15:14:24.420228Z",
     "shell.execute_reply": "2024-02-22T15:14:24.419090Z",
     "shell.execute_reply.started": "2024-02-22T15:14:24.255775Z"
    }
   },
   "outputs": [],
   "source": [
    "sns.countplot(x=\"Survived\",hue=\"Sex\", data=combined_data_fare100 )\n",
    "plt.show()"
   ]
  },
  {
   "cell_type": "code",
   "execution_count": null,
   "metadata": {
    "execution": {
     "iopub.execute_input": "2024-02-22T15:14:24.422045Z",
     "iopub.status.busy": "2024-02-22T15:14:24.421633Z",
     "iopub.status.idle": "2024-02-22T15:14:24.589527Z",
     "shell.execute_reply": "2024-02-22T15:14:24.588385Z",
     "shell.execute_reply.started": "2024-02-22T15:14:24.422008Z"
    }
   },
   "outputs": [],
   "source": [
    "\n",
    "combined_data[\"Fare_cat\"]=combined_data[\"Fare\"].apply(lambda x: 0 if x < 100 else 1)\n",
    "#visualize\n",
    "sns.countplot(x=\"Survived\",hue=\"Fare_cat\", data=combined_data)\n",
    "plt.show()\n",
    "\n",
    "\n"
   ]
  },
  {
   "cell_type": "code",
   "execution_count": null,
   "metadata": {
    "execution": {
     "iopub.execute_input": "2024-02-22T15:14:24.591962Z",
     "iopub.status.busy": "2024-02-22T15:14:24.590969Z",
     "iopub.status.idle": "2024-02-22T15:14:24.605390Z",
     "shell.execute_reply": "2024-02-22T15:14:24.604128Z",
     "shell.execute_reply.started": "2024-02-22T15:14:24.591910Z"
    }
   },
   "outputs": [],
   "source": [
    "#percent survived per sibsp and total survived\n",
    "combined_data[\"Survived\"].groupby(combined_data[\"SibSp\"]).value_counts(normalize=True)"
   ]
  },
  {
   "cell_type": "code",
   "execution_count": null,
   "metadata": {
    "execution": {
     "iopub.execute_input": "2024-02-22T15:14:24.608199Z",
     "iopub.status.busy": "2024-02-22T15:14:24.607562Z",
     "iopub.status.idle": "2024-02-22T15:14:24.996638Z",
     "shell.execute_reply": "2024-02-22T15:14:24.995380Z",
     "shell.execute_reply.started": "2024-02-22T15:14:24.608157Z"
    }
   },
   "outputs": [],
   "source": [
    "sns.countplot(x=\"Survived\",hue=\"SibSp\", data=combined_data_fare100)\n",
    "plt.show()"
   ]
  },
  {
   "cell_type": "code",
   "execution_count": null,
   "metadata": {
    "execution": {
     "iopub.execute_input": "2024-02-22T15:14:24.998586Z",
     "iopub.status.busy": "2024-02-22T15:14:24.998209Z",
     "iopub.status.idle": "2024-02-22T15:14:25.021277Z",
     "shell.execute_reply": "2024-02-22T15:14:25.020121Z",
     "shell.execute_reply.started": "2024-02-22T15:14:24.998557Z"
    }
   },
   "outputs": [],
   "source": [
    "survival_rates = combined_data.groupby(['SibSp', 'Sex'])['Survived'].agg(['mean', 'count']).reset_index()\n",
    "survival_rates['Survival Rate'] = survival_rates['mean'] * 100\n",
    "survival_rates = survival_rates.drop(['mean'], axis=1)\n",
    "survival_rates.columns = ['SibSp', 'Sex', 'Total Passengers', 'Survival Rate (%)']\n",
    "survival_rates"
   ]
  },
  {
   "cell_type": "code",
   "execution_count": null,
   "metadata": {
    "execution": {
     "iopub.execute_input": "2024-02-22T15:14:25.023090Z",
     "iopub.status.busy": "2024-02-22T15:14:25.022732Z",
     "iopub.status.idle": "2024-02-22T15:14:25.030662Z",
     "shell.execute_reply": "2024-02-22T15:14:25.029380Z",
     "shell.execute_reply.started": "2024-02-22T15:14:25.023051Z"
    }
   },
   "outputs": [],
   "source": [
    "'''combined_data['SibSp_cat'] = train_data[\"SibSp\"].apply(lambda x: 'A' if 0 <= x <= 2 else ('B' if 3 <= x <= 4 else 'C'))\n",
    "sns.countplot(x=\"Survived\",hue=\"SibSp_cat\", data=train_data)\n",
    "plt.show()'''"
   ]
  },
  {
   "cell_type": "code",
   "execution_count": null,
   "metadata": {
    "execution": {
     "iopub.execute_input": "2024-02-22T15:14:25.033797Z",
     "iopub.status.busy": "2024-02-22T15:14:25.032903Z",
     "iopub.status.idle": "2024-02-22T15:14:25.042607Z",
     "shell.execute_reply": "2024-02-22T15:14:25.041501Z",
     "shell.execute_reply.started": "2024-02-22T15:14:25.033755Z"
    }
   },
   "outputs": [],
   "source": [
    "#combined_data[\"SibSp_cat\"].isnull().sum()"
   ]
  },
  {
   "cell_type": "code",
   "execution_count": null,
   "metadata": {
    "execution": {
     "iopub.execute_input": "2024-02-22T15:14:25.044699Z",
     "iopub.status.busy": "2024-02-22T15:14:25.044299Z",
     "iopub.status.idle": "2024-02-22T15:14:25.054661Z",
     "shell.execute_reply": "2024-02-22T15:14:25.053378Z",
     "shell.execute_reply.started": "2024-02-22T15:14:25.044669Z"
    }
   },
   "outputs": [],
   "source": [
    "#combined_data[combined_data[\"SibSp_cat\"] == 'C']\n"
   ]
  },
  {
   "cell_type": "code",
   "execution_count": null,
   "metadata": {
    "execution": {
     "iopub.execute_input": "2024-02-22T15:14:25.056817Z",
     "iopub.status.busy": "2024-02-22T15:14:25.056446Z",
     "iopub.status.idle": "2024-02-22T15:14:25.068345Z",
     "shell.execute_reply": "2024-02-22T15:14:25.066478Z",
     "shell.execute_reply.started": "2024-02-22T15:14:25.056787Z"
    }
   },
   "outputs": [],
   "source": [
    "'''survival_rates = combined_data.groupby(['SibSp_cat', 'Sex'])['Survived'].agg(['mean', 'count']).reset_index()\n",
    "survival_rates['Survival Rate'] = survival_rates['mean'] * 100\n",
    "survival_rates = survival_rates.drop(['mean'], axis=1)\n",
    "survival_rates.columns = ['SibSp_cat', 'Sex', 'Total Passengers', 'Survival Rate (%)']\n",
    "survival_rates'''"
   ]
  },
  {
   "cell_type": "code",
   "execution_count": null,
   "metadata": {
    "execution": {
     "iopub.execute_input": "2024-02-22T15:14:25.070295Z",
     "iopub.status.busy": "2024-02-22T15:14:25.069854Z",
     "iopub.status.idle": "2024-02-22T15:14:25.080947Z",
     "shell.execute_reply": "2024-02-22T15:14:25.079839Z",
     "shell.execute_reply.started": "2024-02-22T15:14:25.070263Z"
    }
   },
   "outputs": [],
   "source": [
    "''' sns.barplot(x=\"SibSp_cat\", y=\"Total Passengers\", hue=\"Sex\", \n",
    "            data=survival_rates, alpha=0.3, palette=\"coolwarm\")\n",
    "\n",
    "survival_rates['Survived Passengers'] = survival_rates['Total Passengers'] * survival_rates['Survival Rate (%)'] / 100\n",
    "\n",
    "sns.barplot(x=\"SibSp_cat\", y=\"Survived Passengers\", \n",
    "            hue=\"Sex\", data=survival_rates,\n",
    "            palette=\"coolwarm\")\n",
    "\n",
    "plt.title('Total and Survived Passengers by SibSp_cat and Sex')\n",
    "plt.ylabel('Number of Passengers')\n",
    "plt.show() '''"
   ]
  },
  {
   "cell_type": "code",
   "execution_count": null,
   "metadata": {
    "execution": {
     "iopub.execute_input": "2024-02-22T15:14:25.083236Z",
     "iopub.status.busy": "2024-02-22T15:14:25.082774Z",
     "iopub.status.idle": "2024-02-22T15:14:25.090678Z",
     "shell.execute_reply": "2024-02-22T15:14:25.089592Z",
     "shell.execute_reply.started": "2024-02-22T15:14:25.083200Z"
    }
   },
   "outputs": [],
   "source": [
    "#type(combined_data[['Name']]), type(combined_data['Name'])"
   ]
  },
  {
   "cell_type": "code",
   "execution_count": null,
   "metadata": {
    "execution": {
     "iopub.execute_input": "2024-02-22T15:14:25.094348Z",
     "iopub.status.busy": "2024-02-22T15:14:25.094004Z",
     "iopub.status.idle": "2024-02-22T15:14:25.121324Z",
     "shell.execute_reply": "2024-02-22T15:14:25.120105Z",
     "shell.execute_reply.started": "2024-02-22T15:14:25.094322Z"
    }
   },
   "outputs": [],
   "source": [
    "#extract to title from names\n",
    "#this expression extracts the title (Mr, Mrs, Miss, etc)\n",
    "combined_data['Title'] = combined_data['Name'].str.extract(' ([A-Za-z]+)\\.', expand=False)\n",
    "combined_data['Title'].unique()\n",
    "pd.crosstab(combined_data['Title'], combined_data['Sex'])"
   ]
  },
  {
   "cell_type": "code",
   "execution_count": null,
   "metadata": {
    "execution": {
     "iopub.execute_input": "2024-02-22T15:14:25.123299Z",
     "iopub.status.busy": "2024-02-22T15:14:25.122695Z",
     "iopub.status.idle": "2024-02-22T15:14:25.144507Z",
     "shell.execute_reply": "2024-02-22T15:14:25.143483Z",
     "shell.execute_reply.started": "2024-02-22T15:14:25.123269Z"
    }
   },
   "outputs": [],
   "source": [
    "combined_data['Title'] = combined_data['Title'].replace(['Lady', 'Countess', 'Capt','Col','Don',\n",
    "                                                 'Dr','Major','Rev', 'Sir','Jonkheer','Dona'],'Rare')\n",
    "combined_data['Title'] = combined_data['Title'].replace(['Mlle', 'Ms'], 'Miss') \n",
    "combined_data['Title'] = combined_data['Title'].replace(['Mme', 'Dona'], 'Mrs')\n",
    "combined_data[['Title','Survived']].groupby(['Title'], as_index=False).mean()"
   ]
  },
  {
   "cell_type": "code",
   "execution_count": null,
   "metadata": {
    "execution": {
     "iopub.execute_input": "2024-02-22T15:14:25.145864Z",
     "iopub.status.busy": "2024-02-22T15:14:25.145528Z",
     "iopub.status.idle": "2024-02-22T15:14:25.155710Z",
     "shell.execute_reply": "2024-02-22T15:14:25.154295Z",
     "shell.execute_reply.started": "2024-02-22T15:14:25.145837Z"
    }
   },
   "outputs": [],
   "source": [
    "title_map = {\"Mr\": 1, \"Rare\": 2, \"Master\": 2, \"Miss\": 4, \"Mrs\": 4}\n",
    "combined_data['Title_ord'] = combined_data['Title'].map(title_map)\n",
    "combined_data['Title_ord']=combined_data['Title_ord'].fillna(0)"
   ]
  },
  {
   "cell_type": "code",
   "execution_count": null,
   "metadata": {
    "execution": {
     "iopub.execute_input": "2024-02-22T15:14:25.158293Z",
     "iopub.status.busy": "2024-02-22T15:14:25.157663Z",
     "iopub.status.idle": "2024-02-22T15:14:25.170433Z",
     "shell.execute_reply": "2024-02-22T15:14:25.169321Z",
     "shell.execute_reply.started": "2024-02-22T15:14:25.158252Z"
    }
   },
   "outputs": [],
   "source": [
    "combined_data['Sex']=combined_data['Sex'].map({'male':1,'female':0}).astype(int)"
   ]
  },
  {
   "cell_type": "code",
   "execution_count": null,
   "metadata": {
    "execution": {
     "iopub.execute_input": "2024-02-22T15:14:25.172883Z",
     "iopub.status.busy": "2024-02-22T15:14:25.172400Z",
     "iopub.status.idle": "2024-02-22T15:14:25.192877Z",
     "shell.execute_reply": "2024-02-22T15:14:25.191733Z",
     "shell.execute_reply.started": "2024-02-22T15:14:25.172841Z"
    }
   },
   "outputs": [],
   "source": [
    "combined_data.head()"
   ]
  },
  {
   "cell_type": "code",
   "execution_count": null,
   "metadata": {
    "execution": {
     "iopub.execute_input": "2024-02-22T15:14:25.195788Z",
     "iopub.status.busy": "2024-02-22T15:14:25.194502Z",
     "iopub.status.idle": "2024-02-22T15:14:25.485204Z",
     "shell.execute_reply": "2024-02-22T15:14:25.483871Z",
     "shell.execute_reply.started": "2024-02-22T15:14:25.195749Z"
    }
   },
   "outputs": [],
   "source": [
    "sns.countplot(x=\"Survived\",hue=\"Parch\", data=combined_data)"
   ]
  },
  {
   "cell_type": "code",
   "execution_count": null,
   "metadata": {
    "execution": {
     "iopub.execute_input": "2024-02-22T15:14:25.488050Z",
     "iopub.status.busy": "2024-02-22T15:14:25.487219Z",
     "iopub.status.idle": "2024-02-22T15:14:25.502832Z",
     "shell.execute_reply": "2024-02-22T15:14:25.501813Z",
     "shell.execute_reply.started": "2024-02-22T15:14:25.488002Z"
    }
   },
   "outputs": [],
   "source": [
    "combined_data[['Parch','Survived']].groupby(['Parch'], as_index=False).mean()\n"
   ]
  },
  {
   "cell_type": "code",
   "execution_count": null,
   "metadata": {
    "execution": {
     "iopub.execute_input": "2024-02-22T15:14:25.504112Z",
     "iopub.status.busy": "2024-02-22T15:14:25.503788Z",
     "iopub.status.idle": "2024-02-22T15:14:25.519731Z",
     "shell.execute_reply": "2024-02-22T15:14:25.518695Z",
     "shell.execute_reply.started": "2024-02-22T15:14:25.504053Z"
    }
   },
   "outputs": [],
   "source": [
    "#Parch 1-2-3 --> 3, 4,6,7->1, 0-5 --> 2 mapping\n",
    "combined_data['Parch_cat']=combined_data['Parch'].map({0:2, 5:2, 4:1, 6:1, 7:1, 1:3, 2:3, 3:3, 9:1})\n",
    "combined_data.isnull().sum()\n",
    "#combined_data['Parch_cat'].unique()"
   ]
  },
  {
   "cell_type": "code",
   "execution_count": null,
   "metadata": {
    "execution": {
     "iopub.execute_input": "2024-02-22T15:14:25.521416Z",
     "iopub.status.busy": "2024-02-22T15:14:25.520998Z",
     "iopub.status.idle": "2024-02-22T15:14:25.536867Z",
     "shell.execute_reply": "2024-02-22T15:14:25.535499Z",
     "shell.execute_reply.started": "2024-02-22T15:14:25.521386Z"
    }
   },
   "outputs": [],
   "source": [
    "combined_data[['Embarked','Survived']].groupby(['Embarked'], as_index=False).mean()"
   ]
  },
  {
   "cell_type": "code",
   "execution_count": null,
   "metadata": {
    "execution": {
     "iopub.execute_input": "2024-02-22T15:14:25.539121Z",
     "iopub.status.busy": "2024-02-22T15:14:25.538386Z",
     "iopub.status.idle": "2024-02-22T15:14:25.549736Z",
     "shell.execute_reply": "2024-02-22T15:14:25.548630Z",
     "shell.execute_reply.started": "2024-02-22T15:14:25.539047Z"
    }
   },
   "outputs": [],
   "source": [
    "combined_data['Embarked']=combined_data['Embarked'].fillna('Q')\n",
    "combined_data['Embarked_ord']=combined_data['Embarked'].map({'S':1,'C':2,'Q':1}).astype(int)"
   ]
  },
  {
   "cell_type": "code",
   "execution_count": null,
   "metadata": {
    "execution": {
     "iopub.execute_input": "2024-02-22T15:14:25.551671Z",
     "iopub.status.busy": "2024-02-22T15:14:25.551314Z",
     "iopub.status.idle": "2024-02-22T15:14:25.562407Z",
     "shell.execute_reply": "2024-02-22T15:14:25.561244Z",
     "shell.execute_reply.started": "2024-02-22T15:14:25.551641Z"
    }
   },
   "outputs": [],
   "source": [
    "combined_data['Sex']"
   ]
  },
  {
   "cell_type": "code",
   "execution_count": null,
   "metadata": {
    "execution": {
     "iopub.execute_input": "2024-02-22T15:14:25.564669Z",
     "iopub.status.busy": "2024-02-22T15:14:25.564333Z",
     "iopub.status.idle": "2024-02-22T15:14:25.572331Z",
     "shell.execute_reply": "2024-02-22T15:14:25.571136Z",
     "shell.execute_reply.started": "2024-02-22T15:14:25.564642Z"
    }
   },
   "outputs": [],
   "source": [
    "combined_data['Fare'].fillna(1,inplace=True)"
   ]
  },
  {
   "cell_type": "code",
   "execution_count": null,
   "metadata": {
    "execution": {
     "iopub.execute_input": "2024-02-22T15:14:25.574277Z",
     "iopub.status.busy": "2024-02-22T15:14:25.573880Z",
     "iopub.status.idle": "2024-02-22T15:14:25.588000Z",
     "shell.execute_reply": "2024-02-22T15:14:25.587103Z",
     "shell.execute_reply.started": "2024-02-22T15:14:25.574248Z"
    }
   },
   "outputs": [],
   "source": [
    "combined_data.isnull().sum()"
   ]
  },
  {
   "cell_type": "code",
   "execution_count": null,
   "metadata": {
    "execution": {
     "iopub.execute_input": "2024-02-22T15:14:25.589739Z",
     "iopub.status.busy": "2024-02-22T15:14:25.589133Z",
     "iopub.status.idle": "2024-02-22T15:14:25.615636Z",
     "shell.execute_reply": "2024-02-22T15:14:25.614460Z",
     "shell.execute_reply.started": "2024-02-22T15:14:25.589709Z"
    }
   },
   "outputs": [],
   "source": [
    "combined_data.loc[ combined_data['Age'] <= 16, 'Age'] = 0\n",
    "combined_data.loc[(combined_data['Age'] > 16) & (combined_data['Age'] <= 32), 'Age'] = 1\n",
    "combined_data.loc[(combined_data['Age'] > 32) & (combined_data['Age'] <= 48), 'Age'] = 2\n",
    "combined_data.loc[(combined_data['Age'] > 48) & (combined_data['Age'] <= 64), 'Age'] = 3\n",
    "combined_data.loc[ combined_data['Age'] > 64, 'Age']\n",
    "combined_data.head()"
   ]
  },
  {
   "cell_type": "code",
   "execution_count": null,
   "metadata": {
    "execution": {
     "iopub.execute_input": "2024-02-22T15:14:25.617665Z",
     "iopub.status.busy": "2024-02-22T15:14:25.617250Z",
     "iopub.status.idle": "2024-02-22T15:14:25.633483Z",
     "shell.execute_reply": "2024-02-22T15:14:25.632439Z",
     "shell.execute_reply.started": "2024-02-22T15:14:25.617630Z"
    }
   },
   "outputs": [],
   "source": [
    "df=combined_data.drop(['PassengerId','Name',  'Ticket', 'Fare', 'Cabin', 'Embarked','Title'], axis=1)\n",
    "df.head()"
   ]
  },
  {
   "cell_type": "code",
   "execution_count": null,
   "metadata": {
    "execution": {
     "iopub.execute_input": "2024-02-22T15:14:25.635021Z",
     "iopub.status.busy": "2024-02-22T15:14:25.634665Z",
     "iopub.status.idle": "2024-02-22T15:14:25.643967Z",
     "shell.execute_reply": "2024-02-22T15:14:25.643153Z",
     "shell.execute_reply.started": "2024-02-22T15:14:25.634970Z"
    }
   },
   "outputs": [],
   "source": [
    "df['Age'].fillna(df['Age'].mean(), inplace=True)"
   ]
  },
  {
   "cell_type": "code",
   "execution_count": null,
   "metadata": {
    "execution": {
     "iopub.execute_input": "2024-02-22T15:14:25.646009Z",
     "iopub.status.busy": "2024-02-22T15:14:25.645616Z",
     "iopub.status.idle": "2024-02-22T15:14:25.657766Z",
     "shell.execute_reply": "2024-02-22T15:14:25.656716Z",
     "shell.execute_reply.started": "2024-02-22T15:14:25.645971Z"
    }
   },
   "outputs": [],
   "source": [
    "df.isnull().sum()"
   ]
  },
  {
   "cell_type": "code",
   "execution_count": null,
   "metadata": {
    "execution": {
     "iopub.execute_input": "2024-02-22T15:14:25.659623Z",
     "iopub.status.busy": "2024-02-22T15:14:25.659312Z",
     "iopub.status.idle": "2024-02-22T15:14:25.667511Z",
     "shell.execute_reply": "2024-02-22T15:14:25.666733Z",
     "shell.execute_reply.started": "2024-02-22T15:14:25.659595Z"
    }
   },
   "outputs": [],
   "source": [
    "train_data = df[:891]\n",
    "test_data = df[891:]"
   ]
  },
  {
   "cell_type": "code",
   "execution_count": null,
   "metadata": {
    "execution": {
     "iopub.execute_input": "2024-02-22T15:14:25.669325Z",
     "iopub.status.busy": "2024-02-22T15:14:25.668519Z",
     "iopub.status.idle": "2024-02-22T15:14:25.679631Z",
     "shell.execute_reply": "2024-02-22T15:14:25.678496Z",
     "shell.execute_reply.started": "2024-02-22T15:14:25.669297Z"
    }
   },
   "outputs": [],
   "source": [
    "train_data.shape, test_data.shape"
   ]
  },
  {
   "cell_type": "code",
   "execution_count": null,
   "metadata": {
    "execution": {
     "iopub.execute_input": "2024-02-22T15:14:25.681039Z",
     "iopub.status.busy": "2024-02-22T15:14:25.680771Z",
     "iopub.status.idle": "2024-02-22T15:14:25.698303Z",
     "shell.execute_reply": "2024-02-22T15:14:25.697128Z",
     "shell.execute_reply.started": "2024-02-22T15:14:25.681017Z"
    }
   },
   "outputs": [],
   "source": [
    "train_data.head()"
   ]
  },
  {
   "cell_type": "code",
   "execution_count": null,
   "metadata": {
    "execution": {
     "iopub.execute_input": "2024-02-22T15:14:25.700114Z",
     "iopub.status.busy": "2024-02-22T15:14:25.699693Z",
     "iopub.status.idle": "2024-02-22T15:14:25.713901Z",
     "shell.execute_reply": "2024-02-22T15:14:25.712384Z",
     "shell.execute_reply.started": "2024-02-22T15:14:25.700077Z"
    }
   },
   "outputs": [],
   "source": [
    "test_data.head()"
   ]
  },
  {
   "cell_type": "code",
   "execution_count": null,
   "metadata": {
    "execution": {
     "iopub.execute_input": "2024-02-22T15:14:25.715811Z",
     "iopub.status.busy": "2024-02-22T15:14:25.715423Z",
     "iopub.status.idle": "2024-02-22T15:14:25.724412Z",
     "shell.execute_reply": "2024-02-22T15:14:25.723294Z",
     "shell.execute_reply.started": "2024-02-22T15:14:25.715775Z"
    }
   },
   "outputs": [],
   "source": [
    "train_data.isnull().sum()"
   ]
  },
  {
   "cell_type": "code",
   "execution_count": null,
   "metadata": {
    "execution": {
     "iopub.execute_input": "2024-02-22T15:14:25.726465Z",
     "iopub.status.busy": "2024-02-22T15:14:25.726006Z",
     "iopub.status.idle": "2024-02-22T15:14:25.747317Z",
     "shell.execute_reply": "2024-02-22T15:14:25.745806Z",
     "shell.execute_reply.started": "2024-02-22T15:14:25.726435Z"
    }
   },
   "outputs": [],
   "source": [
    "#import Standart scaler\n",
    "from sklearn.preprocessing import StandardScaler\n",
    "X_train = StandardScaler().fit_transform(train_data.drop(\"Survived\", axis=1)) #standardize train_data\n",
    "y_train = train_data[\"Survived\"]\n",
    "y_test = test_data[\"Survived\"]\n",
    "\n",
    "X_test = StandardScaler().fit_transform(test_data.drop(\"Survived\", axis=1))"
   ]
  },
  {
   "cell_type": "markdown",
   "metadata": {},
   "source": [
    "# Modelling"
   ]
  },
  {
   "cell_type": "code",
   "execution_count": null,
   "metadata": {
    "execution": {
     "iopub.execute_input": "2024-02-22T15:14:25.749159Z",
     "iopub.status.busy": "2024-02-22T15:14:25.748748Z",
     "iopub.status.idle": "2024-02-22T15:14:25.759492Z",
     "shell.execute_reply": "2024-02-22T15:14:25.758707Z",
     "shell.execute_reply.started": "2024-02-22T15:14:25.749123Z"
    }
   },
   "outputs": [],
   "source": [
    "from  sklearn.naive_bayes import GaussianNB\n",
    "from sklearn.naive_bayes import BernoulliNB\n",
    "from sklearn.linear_model import LogisticRegression\n",
    "#accuaracy\n",
    "from sklearn.metrics import accuracy_score, confusion_matrix, classification_report\n",
    "from sklearn.ensemble import RandomForestClassifier\n",
    "from sklearn.ensemble import GradientBoostingClassifier\n",
    "from sklearn.neighbors import KNeighborsClassifier\n",
    "from sklearn.model_selection import train_test_split\n",
    "def model_classification(X,y):\n",
    "    '''\n",
    "    X: independent variable\n",
    "    y: dependent variable\n",
    "    return best model and its accuracy\n",
    "    '''\n",
    "    x_train,x_test,y_train,y_test=train_test_split(X,y,test_size=0.3,random_state=42)\n",
    "    models = [GaussianNB(),BernoulliNB(),LogisticRegression(),RandomForestClassifier(), GradientBoostingClassifier(), KNeighborsClassifier(n_neighbors=5)]\n",
    "    results=[]\n",
    "    for model in models:\n",
    "        model.fit(x_train,y_train)\n",
    "        model_predict=model.predict(x_test)\n",
    "        print(\"Model: \",model)\n",
    "        print(\"Model Accuracy: \",accuracy_score(model_predict,y_test))\n",
    "        print(\"Model Confusion Matrix: \",confusion_matrix(model_predict,y_test),\"\\n\")\n",
    "        print(\"Model Classification Report: \",classification_report(model_predict,y_test))\n",
    "        print(\"-\"*50)\n",
    "        results.append(accuracy_score(model_predict,y_test))\n",
    "    #best model\n",
    "    best_model=models[results.index(max(results))]\n",
    "    print(\"Best Model: \",best_model)\n",
    "    print(\"Best Model Accuracy: \",max(results))\n",
    "    models=pd.DataFrame({\n",
    "        'Model':['GaussianNB','BernoulliNB','LogisticRegression','RandomForestClassifier', 'GradientBoostingClassifier', 'KNeighborsClassifier'],\n",
    "        'Score':results})\n",
    "    print(models.sort_values(by='Score', ascending=False, ignore_index=True))\n",
    "    return best_model,max(results), confusion_matrix(model_predict,y_test)"
   ]
  },
  {
   "cell_type": "code",
   "execution_count": null,
   "metadata": {
    "execution": {
     "iopub.execute_input": "2024-02-22T15:14:25.760545Z",
     "iopub.status.busy": "2024-02-22T15:14:25.760286Z",
     "iopub.status.idle": "2024-02-22T15:14:26.174194Z",
     "shell.execute_reply": "2024-02-22T15:14:26.173116Z",
     "shell.execute_reply.started": "2024-02-22T15:14:25.760522Z"
    }
   },
   "outputs": [],
   "source": [
    "model_classification(X_train,y_train)"
   ]
  },
  {
   "cell_type": "code",
   "execution_count": null,
   "metadata": {
    "execution": {
     "iopub.execute_input": "2024-02-22T15:16:18.842907Z",
     "iopub.status.busy": "2024-02-22T15:16:18.842457Z",
     "iopub.status.idle": "2024-02-22T15:16:19.086991Z",
     "shell.execute_reply": "2024-02-22T15:16:19.085423Z",
     "shell.execute_reply.started": "2024-02-22T15:16:18.842878Z"
    }
   },
   "outputs": [],
   "source": [
    "#whole data\n",
    "rf_model = RandomForestClassifier()\n",
    "rf_model.fit(X_train,y_train)\n",
    "\n",
    "y_pred=rf_model.predict(X_test)\n",
    "aac = round(rf_model.score(X_train, y_train) * 100, 2) #accuracy_score(X_train, y_train)\n",
    "print(aac)\n"
   ]
  },
  {
   "cell_type": "code",
   "execution_count": null,
   "metadata": {
    "execution": {
     "iopub.execute_input": "2024-02-22T15:16:25.723180Z",
     "iopub.status.busy": "2024-02-22T15:16:25.722480Z",
     "iopub.status.idle": "2024-02-22T15:16:25.750697Z",
     "shell.execute_reply": "2024-02-22T15:16:25.749614Z",
     "shell.execute_reply.started": "2024-02-22T15:16:25.723137Z"
    }
   },
   "outputs": [],
   "source": [
    "test_data = pd.read_csv(\"/kaggle/input/titanic/test.csv\")\n",
    "y_pred=rf_model.predict(X_test)\n",
    "submission = pd.DataFrame({\n",
    "        \"PassengerId\": test_data[\"PassengerId\"],\n",
    "        \"Survived\": y_pred.astype(int)\n",
    "    })\n",
    "submission.head()"
   ]
  },
  {
   "cell_type": "code",
   "execution_count": null,
   "metadata": {
    "execution": {
     "iopub.execute_input": "2024-02-22T15:16:37.480762Z",
     "iopub.status.busy": "2024-02-22T15:16:37.480268Z",
     "iopub.status.idle": "2024-02-22T15:16:37.490841Z",
     "shell.execute_reply": "2024-02-22T15:16:37.489747Z",
     "shell.execute_reply.started": "2024-02-22T15:16:37.480728Z"
    }
   },
   "outputs": [],
   "source": [
    "submission.to_csv('submission.csv', index=False)"
   ]
  },
  {
   "cell_type": "code",
   "execution_count": null,
   "metadata": {
    "execution": {
     "iopub.execute_input": "2024-02-22T15:18:23.459540Z",
     "iopub.status.busy": "2024-02-22T15:18:23.459094Z",
     "iopub.status.idle": "2024-02-22T15:18:23.468389Z",
     "shell.execute_reply": "2024-02-22T15:18:23.466841Z",
     "shell.execute_reply.started": "2024-02-22T15:18:23.459510Z"
    }
   },
   "outputs": [],
   "source": [
    "#download submission\n",
    "from IPython.display import FileLink\n",
    "FileLink('submission.csv')"
   ]
  },
  {
   "cell_type": "code",
   "execution_count": null,
   "metadata": {},
   "outputs": [],
   "source": []
  }
 ],
 "metadata": {
  "kaggle": {
   "accelerator": "none",
   "dataSources": [
    {
     "databundleVersionId": 26502,
     "sourceId": 3136,
     "sourceType": "competition"
    }
   ],
   "dockerImageVersionId": 30646,
   "isGpuEnabled": false,
   "isInternetEnabled": true,
   "language": "python",
   "sourceType": "notebook"
  },
  "kernelspec": {
   "display_name": "Python 3 (ipykernel)",
   "language": "python",
   "name": "python3"
  },
  "language_info": {
   "codemirror_mode": {
    "name": "ipython",
    "version": 3
   },
   "file_extension": ".py",
   "mimetype": "text/x-python",
   "name": "python",
   "nbconvert_exporter": "python",
   "pygments_lexer": "ipython3",
   "version": "3.11.5"
  }
 },
 "nbformat": 4,
 "nbformat_minor": 4
}
